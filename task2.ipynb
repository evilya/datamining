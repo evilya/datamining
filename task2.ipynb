{
 "cells": [
  {
   "cell_type": "code",
   "execution_count": 133,
   "metadata": {},
   "outputs": [
    {
     "name": "stdout",
     "output_type": "stream",
     "text": [
      "Populating the interactive namespace from numpy and matplotlib\n"
     ]
    }
   ],
   "source": [
    "import pandas as pd\n",
    "import numpy as np\n",
    "import pylab as pl\n",
    "from sklearn.naive_bayes import GaussianNB\n",
    "from sklearn import svm\n",
    "from sklearn.metrics import accuracy_score\n",
    "from sklearn.tree import DecisionTreeClassifier\n",
    "from sklearn.model_selection import KFold\n",
    "from sklearn.feature_selection import RFECV\n",
    "from sklearn.neighbors import LocalOutlierFactor\n",
    "\n",
    "%pylab inline"
   ]
  },
  {
   "cell_type": "code",
   "execution_count": 134,
   "metadata": {},
   "outputs": [],
   "source": [
    "df_train = pd.read_csv(\"train.csv\")"
   ]
  },
  {
   "cell_type": "code",
   "execution_count": 135,
   "metadata": {},
   "outputs": [
    {
     "name": "stdout",
     "output_type": "stream",
     "text": [
      "7 признаков неинформативны, осталось 35 признаков\n"
     ]
    }
   ],
   "source": [
    "noninformative = 0\n",
    "for name in df_train.columns:\n",
    "    if df_train[name].dtype == 'object':\n",
    "        s = df_train[name].value_counts()\n",
    "        if s[0] > int(0.9 * df_train.index.size):\n",
    "            df_train = df_train.drop([name], axis=1)\n",
    "            noninformative += 1\n",
    "print(str(noninformative) + \" признаков неинформативны, осталось \" + str(len(df_train.columns)) + \" признаков\")"
   ]
  },
  {
   "cell_type": "code",
   "execution_count": 136,
   "metadata": {},
   "outputs": [
    {
     "name": "stdout",
     "output_type": "stream",
     "text": [
      "[1 0 1 ..., 0 0 1]\n"
     ]
    }
   ],
   "source": [
    "df_train = df_train.replace(to_replace={'CLASS': {'-50000':0, '50000+':1}})\n",
    "Y_train = df_train['CLASS'].values.astype(np.int)\n",
    "df_train = df_train.drop(['CLASS'], axis=1)\n",
    "print(Y_train)"
   ]
  },
  {
   "cell_type": "code",
   "execution_count": 137,
   "metadata": {},
   "outputs": [],
   "source": [
    "from copy import deepcopy\n",
    "\n",
    "\n",
    "def dummy_encode_categorical_columns(df, categorical_columns):\n",
    "    result_df = deepcopy(df)\n",
    "    for column in categorical_columns:\n",
    "        result_df = pd.concat([result_df, pd.get_dummies(result_df[column], \n",
    "                                                         prefix=column, prefix_sep=': ')], axis=1)\n",
    "        del result_df[column]\n",
    "    return result_df"
   ]
  },
  {
   "cell_type": "code",
   "execution_count": 138,
   "metadata": {},
   "outputs": [
    {
     "name": "stdout",
     "output_type": "stream",
     "text": [
      "(10000, 306)\n"
     ]
    }
   ],
   "source": [
    "categorical_columns = set(df_train.columns[df_train.dtypes == 'object'])\n",
    "df_no_cat = dummy_encode_categorical_columns(df_train, categorical_columns)\n",
    "X_train=df_no_cat.values.astype(np.float32)\n",
    "print(X_train.shape)"
   ]
  },
  {
   "cell_type": "code",
   "execution_count": 3,
   "metadata": {},
   "outputs": [],
   "source": [
    "def cross_validate(X, y, clf, splits=4, sel_feat=False, del_anom=False):\n",
    "    scores = []\n",
    "    kf = KFold(n_splits=splits)\n",
    "    for train, test in kf.split(X_train):\n",
    "        x_train, x_test, y_train, y_test = X[train], X[test], y[train], y[test]\n",
    "        if sel_feat:\n",
    "            estimator = DecisionTreeClassifier()\n",
    "            selector = RFECV(estimator, step=0.1, n_jobs=-1)\n",
    "            x_train = selector.fit_transform(x_train, y_train)\n",
    "            x_test = x_test[:,selector.ranking_==1]\n",
    "        \n",
    "        if del_anom:\n",
    "            lof = LocalOutlierFactor()\n",
    "            keep = lof.fit_predict(x_train)\n",
    "            x_train = x_train[keep==1,:]\n",
    "            y_train = y_train[keep==1]\n",
    "            \n",
    "        \n",
    "        score = accuracy_score(y_test, clf.fit(x_train, y_train).predict(x_test))\n",
    "        scores.append(score)\n",
    "    return scores\n",
    "\n",
    "    "
   ]
  },
  {
   "cell_type": "code",
   "execution_count": 2,
   "metadata": {},
   "outputs": [
    {
     "name": "stdout",
     "output_type": "stream",
     "text": [
      "FEATURE SELECTION\n"
     ]
    },
    {
     "ename": "NameError",
     "evalue": "name 'svm' is not defined",
     "output_type": "error",
     "traceback": [
      "\u001b[0;31m---------------------------------------------------------------------------\u001b[0m",
      "\u001b[0;31mNameError\u001b[0m                                 Traceback (most recent call last)",
      "\u001b[0;32m<ipython-input-2-f84e2ccc60d4>\u001b[0m in \u001b[0;36m<module>\u001b[0;34m()\u001b[0m\n\u001b[1;32m      1\u001b[0m \u001b[0mprint\u001b[0m\u001b[0;34m(\u001b[0m\u001b[0;34m\"FEATURE SELECTION\"\u001b[0m\u001b[0;34m)\u001b[0m\u001b[0;34m\u001b[0m\u001b[0m\n\u001b[0;32m----> 2\u001b[0;31m \u001b[0mclf\u001b[0m \u001b[0;34m=\u001b[0m \u001b[0msvm\u001b[0m\u001b[0;34m.\u001b[0m\u001b[0mSVC\u001b[0m\u001b[0;34m(\u001b[0m\u001b[0;34m)\u001b[0m\u001b[0;34m\u001b[0m\u001b[0m\n\u001b[0m\u001b[1;32m      3\u001b[0m \u001b[0mprint\u001b[0m\u001b[0;34m(\u001b[0m\u001b[0;34m\"svm.SVC, 4 fold cross validation, with feature selection\"\u001b[0m\u001b[0;34m)\u001b[0m\u001b[0;34m\u001b[0m\u001b[0m\n\u001b[1;32m      4\u001b[0m \u001b[0mprint\u001b[0m\u001b[0;34m(\u001b[0m\u001b[0mcross_validate\u001b[0m\u001b[0;34m(\u001b[0m\u001b[0mX_train\u001b[0m\u001b[0;34m,\u001b[0m \u001b[0mY_train\u001b[0m\u001b[0;34m,\u001b[0m \u001b[0mclf\u001b[0m\u001b[0;34m,\u001b[0m \u001b[0msel_feat\u001b[0m\u001b[0;34m=\u001b[0m\u001b[0;32mTrue\u001b[0m\u001b[0;34m)\u001b[0m\u001b[0;34m)\u001b[0m\u001b[0;34m\u001b[0m\u001b[0m\n\u001b[1;32m      5\u001b[0m \u001b[0mprint\u001b[0m\u001b[0;34m(\u001b[0m\u001b[0;34m\"svm.SVC, 4 fold cross validation, without feature selection\"\u001b[0m\u001b[0;34m)\u001b[0m\u001b[0;34m\u001b[0m\u001b[0m\n",
      "\u001b[0;31mNameError\u001b[0m: name 'svm' is not defined"
     ]
    }
   ],
   "source": [
    "print(\"FEATURE SELECTION\")\n",
    "clf = svm.SVC()\n",
    "print(\"svm.SVC, 4 fold cross validation, with feature selection\")\n",
    "print(cross_validate(X_train, Y_train, clf, sel_feat=True))\n",
    "print(\"svm.SVC, 4 fold cross validation, without feature selection\")\n",
    "print(cross_validate(X_train, Y_train, clf))\n",
    "\n",
    "clf = DecisionTreeClassifier()\n",
    "print(\"Decision tree, 4 fold cross validation, with feature selection\")\n",
    "print(cross_validate(X_train, Y_train, clf, sel_feat=True))\n",
    "print(\"Decision tree, 4 fold cross validation, without feature selection\")\n",
    "print(cross_validate(X_train, Y_train, clf))"
   ]
  },
  {
   "cell_type": "code",
   "execution_count": 142,
   "metadata": {},
   "outputs": [
    {
     "name": "stdout",
     "output_type": "stream",
     "text": [
      "ANOMALY DETECTION\n",
      "svm.SVC, 4 fold cross validation, with anomaly detection\n",
      "[0.76080000000000003, 0.75639999999999996, 0.73839999999999995, 0.75960000000000005]\n",
      "svm.SVC, 4 fold cross validation, without anomaly detection\n",
      "[0.76400000000000001, 0.75800000000000001, 0.74239999999999995, 0.76519999999999999]\n",
      "Decision tree, 4 fold cross validation, with anomaly detection\n",
      "[0.7964, 0.8196, 0.81440000000000001, 0.81799999999999995]\n",
      "Decision tree, 4 fold cross validation, without anomaly detection\n",
      "[0.8004, 0.8256, 0.80720000000000003, 0.82320000000000004]\n"
     ]
    }
   ],
   "source": [
    "print(\"ANOMALY DETECTION\")\n",
    "\n",
    "clf = svm.SVC()\n",
    "print(\"svm.SVC, 4 fold cross validation, with anomaly detection\")\n",
    "print(cross_validate(X_train, Y_train, clf, del_anom=True))\n",
    "print(\"svm.SVC, 4 fold cross validation, without anomaly detection\")\n",
    "print(cross_validate(X_train, Y_train, clf))\n",
    "\n",
    "clf = DecisionTreeClassifier()\n",
    "print(\"Decision tree, 4 fold cross validation, with anomaly detection\")\n",
    "print(cross_validate(X_train, Y_train, clf, del_anom=True))\n",
    "print(\"Decision tree, 4 fold cross validation, without anomaly detection\")\n",
    "print(cross_validate(X_train, Y_train, clf))\n",
    "\n",
    "\n",
    "\n"
   ]
  },
  {
   "cell_type": "code",
   "execution_count": null,
   "metadata": {},
   "outputs": [],
   "source": []
  }
 ],
 "metadata": {
  "kernelspec": {
   "display_name": "Python 3",
   "language": "python",
   "name": "python3"
  },
  "language_info": {
   "codemirror_mode": {
    "name": "ipython",
    "version": 3
   },
   "file_extension": ".py",
   "mimetype": "text/x-python",
   "name": "python",
   "nbconvert_exporter": "python",
   "pygments_lexer": "ipython3",
   "version": "3.6.2"
  }
 },
 "nbformat": 4,
 "nbformat_minor": 2
}
