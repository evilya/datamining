{
 "cells": [
  {
   "cell_type": "code",
   "execution_count": 1426,
   "metadata": {},
   "outputs": [],
   "source": [
    "import pandas as pd\n",
    "import numpy as np\n",
    "import pylab as pl\n",
    "from sklearn import svm\n",
    "from sklearn.metrics import accuracy_score\n",
    "from sklearn.model_selection import KFold\n",
    "from sklearn.feature_selection import RFECV\n",
    "from sklearn.neighbors import LocalOutlierFactor\n",
    "from sklearn import preprocessing"
   ]
  },
  {
   "cell_type": "code",
   "execution_count": 1427,
   "metadata": {},
   "outputs": [],
   "source": [
    "df_train = pd.read_csv(\"Comp_train.csv\", delimiter=';', header=None)\n",
    "df_train = df_train.sample(frac=1).reset_index(drop=True)\n",
    "#перемешивает тренировочную выборку для нормальной кросс-валидации"
   ]
  },
  {
   "cell_type": "code",
   "execution_count": 1428,
   "metadata": {},
   "outputs": [
    {
     "name": "stdout",
     "output_type": "stream",
     "text": [
      "(300, 10)\n"
     ]
    }
   ],
   "source": [
    "print(df_train.shape)"
   ]
  },
  {
   "cell_type": "code",
   "execution_count": 1429,
   "metadata": {},
   "outputs": [
    {
     "name": "stdout",
     "output_type": "stream",
     "text": [
      "(300,)\n",
      "(300, 9)\n",
      "33\n",
      "4\n",
      "4\n",
      "14\n",
      "2\n",
      "2\n",
      "4\n",
      "4\n",
      "2\n"
     ]
    }
   ],
   "source": [
    "Y_train = df_train[9].values.astype(np.int)\n",
    "X_train = df_train.drop([9], axis=1)\n",
    "print(Y_train.shape)\n",
    "print(X_train.shape)\n",
    "\n",
    "for col in X_train.columns:\n",
    "    s = X_train[col].value_counts()\n",
    "    print(len(s))\n",
    "# количество градаций в каждом признаке"
   ]
  },
  {
   "cell_type": "code",
   "execution_count": 1430,
   "metadata": {},
   "outputs": [],
   "source": [
    "from copy import deepcopy\n",
    "\n",
    "def dummy_encode_categorical_columns(df, categorical_columns):\n",
    "    result_df = deepcopy(df)\n",
    "    for column in categorical_columns:\n",
    "        result_df = pd.concat([result_df, pd.get_dummies(result_df[column], \n",
    "                                                         prefix=column, prefix_sep=': ')], axis=1)\n",
    "        del result_df[column]\n",
    "    return result_df\n"
   ]
  },
  {
   "cell_type": "code",
   "execution_count": 1431,
   "metadata": {},
   "outputs": [
    {
     "name": "stdout",
     "output_type": "stream",
     "text": [
      "(300, 21)\n"
     ]
    }
   ],
   "source": [
    "categorical_columns = (1,2,6,7) #в этих признаках по 4 градации\n",
    "df_no_cat = dummy_encode_categorical_columns(X_train, categorical_columns)\n",
    "X_train=df_no_cat.values.astype(np.float32)\n",
    "print(X_train.shape)"
   ]
  },
  {
   "cell_type": "code",
   "execution_count": 1432,
   "metadata": {},
   "outputs": [],
   "source": [
    "def cross_validate(X, y, clf, splits=6, sel_feat=False, del_anom=False):\n",
    "    X = preprocessing.normalize(X, axis=0, norm='max')\n",
    "    scores = []\n",
    "    kf = KFold(n_splits=splits)\n",
    "    for train, test in kf.split(X):\n",
    "        x_train, x_test, y_train, y_test = X[train], X[test], y[train], y[test]\n",
    "\n",
    "        if sel_feat:\n",
    "            estimator = DecisionTreeClassifier()\n",
    "            selector = RFECV(estimator, step=1, n_jobs=-1)\n",
    "            x_train = selector.fit_transform(x_train, y_train)\n",
    "            x_test = x_test[:,selector.ranking_==1]\n",
    "        \n",
    "        if del_anom:\n",
    "            lof = LocalOutlierFactor(n_neighbors=10, contamination=0.05)\n",
    "            keep = lof.fit_predict(x_train)\n",
    "            x_train = x_train[keep==1,:]\n",
    "            y_train = y_train[keep==1]          \n",
    "\n",
    "        p = clf.fit(x_train, y_train).predict(x_test)\n",
    "        score = accuracy_score(y_test, p)\n",
    "        scores.append(score)\n",
    "    return scores\n"
   ]
  },
  {
   "cell_type": "code",
   "execution_count": 1433,
   "metadata": {
    "scrolled": true
   },
   "outputs": [
    {
     "name": "stdout",
     "output_type": "stream",
     "text": [
      "0.456666666667\n"
     ]
    }
   ],
   "source": [
    "clf = svm.SVC(C=3.5, kernel='sigmoid')\n",
    "\n",
    "a = cross_validate(X_train, Y_train, clf, del_anom=True)\n",
    "\n",
    "print(mean(a))"
   ]
  },
  {
   "cell_type": "code",
   "execution_count": 1434,
   "metadata": {},
   "outputs": [
    {
     "name": "stdout",
     "output_type": "stream",
     "text": [
      "(700, 9)\n"
     ]
    }
   ],
   "source": [
    "df_test = pd.read_csv(\"Comp_test.csv\", delimiter=';', header=None)\n",
    "df_test = df_test.drop(range(9,15), axis=1)\n",
    "print(df_test.shape)"
   ]
  },
  {
   "cell_type": "code",
   "execution_count": 1435,
   "metadata": {},
   "outputs": [],
   "source": [
    "df_no_cat = dummy_encode_categorical_columns(df_test, categorical_columns)\n",
    "df_test=df_no_cat.values.astype(np.float32)\n",
    "\n",
    "df_test = preprocessing.normalize(df_test, axis=0, norm='max')"
   ]
  },
  {
   "cell_type": "code",
   "execution_count": 1436,
   "metadata": {},
   "outputs": [],
   "source": [
    "a = clf.predict(df_test)\n",
    "df = pd.DataFrame(a)\n",
    "with open('result.csv', 'w') as f:\n",
    "    f.write(df.to_csv(header=False, index=False))\n",
    "    "
   ]
  },
  {
   "cell_type": "code",
   "execution_count": null,
   "metadata": {},
   "outputs": [],
   "source": []
  }
 ],
 "metadata": {
  "kernelspec": {
   "display_name": "Python 3",
   "language": "python",
   "name": "python3"
  },
  "language_info": {
   "codemirror_mode": {
    "name": "ipython",
    "version": 3
   },
   "file_extension": ".py",
   "mimetype": "text/x-python",
   "name": "python",
   "nbconvert_exporter": "python",
   "pygments_lexer": "ipython3",
   "version": "3.6.2"
  }
 },
 "nbformat": 4,
 "nbformat_minor": 2
}
